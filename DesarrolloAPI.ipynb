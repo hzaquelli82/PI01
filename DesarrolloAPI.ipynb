{
 "cells": [
  {
   "cell_type": "markdown",
   "metadata": {},
   "source": [
    "# API world"
   ]
  },
  {
   "cell_type": "markdown",
   "metadata": {},
   "source": []
  },
  {
   "cell_type": "code",
   "execution_count": 16,
   "metadata": {},
   "outputs": [],
   "source": [
    "import pandas as pd"
   ]
  },
  {
   "cell_type": "code",
   "execution_count": 17,
   "metadata": {},
   "outputs": [
    {
     "data": {
      "text/plain": [
       "Index(['belongs_to_collection', 'budget', 'genres', 'id', 'original_language',\n",
       "       'overview', 'popularity', 'production_companies',\n",
       "       'production_countries', 'release_date', 'revenue', 'runtime',\n",
       "       'spoken_languages', 'status', 'tagline', 'title', 'vote_average',\n",
       "       'vote_count', 'release_year', 'release_month', 'return'],\n",
       "      dtype='object')"
      ]
     },
     "execution_count": 17,
     "metadata": {},
     "output_type": "execute_result"
    }
   ],
   "source": [
    "df = pd.read_parquet('movies_datasets.parquet')\n",
    "df.head()\n",
    "df.columns"
   ]
  },
  {
   "cell_type": "code",
   "execution_count": 7,
   "metadata": {},
   "outputs": [],
   "source": [
    "def score_titulo(titulo_de_la_filmación):\n",
    "    '''\n",
    "    Esta función recibe como dato un título de película y devuelve título, año de estreno\n",
    "    y valoración.\n",
    "    \n",
    "    Parámetros:\n",
    "    titulo_de_la_filmación (str): Título de la película.\n",
    "    df (DataFrame): DataFrame que contiene la información de las películas.\n",
    "    \n",
    "    Retorna:\n",
    "    None\n",
    "    '''\n",
    "    # Cambiamos el valor de titulo_de_la_filmación a lowercase para buscar\n",
    "    titulo_de_la_filmación = titulo_de_la_filmación.lower()\n",
    "    # Filtramos el DataFrame para obtener la fila que corresponde al título de la película\n",
    "    fila_pelicula = df.loc[df['title'] == titulo_de_la_filmación]\n",
    "    \n",
    "    # Verificamos si se encontró la película\n",
    "    if not fila_pelicula.empty:\n",
    "        # Obtenemos el año de estreno y la popularidad de la película\n",
    "        result_year = int(fila_pelicula['release_year'].values[0])\n",
    "        result_popularity = fila_pelicula['popularity'].values[0]\n",
    "        titulo_de_la_filmación = titulo_de_la_filmación.title()\n",
    "\n",
    "        \n",
    "        # Imprimimos la información de la película\n",
    "        print('La película %s fue estrenada en el año %i, y tuvo una popularidad de %f' % (titulo_de_la_filmación, result_year, result_popularity))\n",
    "    else:\n",
    "        print('No se encontró la película con el título \"%s\"' % titulo_de_la_filmación)"
   ]
  },
  {
   "cell_type": "code",
   "execution_count": 15,
   "metadata": {},
   "outputs": [
    {
     "name": "stdout",
     "output_type": "stream",
     "text": [
      "La película Sabrina fue estrenada en el año 1995, y tuvo una popularidad de 6.677277\n"
     ]
    }
   ],
   "source": [
    "score_titulo('sabrina')"
   ]
  },
  {
   "cell_type": "code",
   "execution_count": 21,
   "metadata": {},
   "outputs": [],
   "source": [
    "def filmaciones_dia(dia: str):\n",
    "    \"\"\"\n",
    "    Cuenta la cantidad de veces que aparece una fecha en una columna de un DataFrame.\n",
    "\n",
    "    Parámetros:\n",
    "    dia (str): Día en la forma AAAA-MM-DD\n",
    "\n",
    "    Retorna:\n",
    "    int: Cantidad de veces que aparece la fecha en la columna.\n",
    "    \"\"\"\n",
    "    dia = pd.to_datetime(dia)\n",
    "    print((df['release_date'] == dia).sum())  "
   ]
  },
  {
   "cell_type": "code",
   "execution_count": 22,
   "metadata": {},
   "outputs": [
    {
     "name": "stdout",
     "output_type": "stream",
     "text": [
      "2\n"
     ]
    }
   ],
   "source": [
    "filmaciones_dia('1982-11-2')"
   ]
  },
  {
   "cell_type": "code",
   "execution_count": 18,
   "metadata": {},
   "outputs": [],
   "source": [
    "def filmaciones_mes (mes: str):\n",
    "    '''Esta función recive el mes como parámetro y devuelve las \n",
    "    filmaciones estrenadas a ese mes\n",
    "    \n",
    "    Parámetro:\n",
    "    mes (str): mes de la filmación. Puede ser 'Enero', 'Febrero', ..., 'Diciembre'\n",
    "\n",
    "    Retorna:\n",
    "    int: Cantidad de filmaciones estrenadas ese mes\n",
    "    '''\n",
    "    mes_dic = {'enero':1,\n",
    "               'febrero':2,\n",
    "               'marzo':3,\n",
    "               'abril':4,\n",
    "               'mayo':5,\n",
    "               'junio':6,\n",
    "               'julio':7,\n",
    "               'agosto':8,\n",
    "               'septiembre':9,\n",
    "               'octubre':10,\n",
    "               'noviembre':11,\n",
    "               'diciembre':12}\n",
    "    mes = mes.lower()\n",
    "    return (df['release_month'] == mes_dic[mes]).sum()"
   ]
  },
  {
   "cell_type": "code",
   "execution_count": 23,
   "metadata": {},
   "outputs": [
    {
     "data": {
      "text/plain": [
       "np.int64(3394)"
      ]
     },
     "execution_count": 23,
     "metadata": {},
     "output_type": "execute_result"
    }
   ],
   "source": [
    "filmaciones_mes('agosto')"
   ]
  },
  {
   "cell_type": "code",
   "execution_count": 20,
   "metadata": {},
   "outputs": [
    {
     "data": {
      "text/plain": [
       "1"
      ]
     },
     "execution_count": 20,
     "metadata": {},
     "output_type": "execute_result"
    }
   ],
   "source": [
    "mes_dic = {'enero':1,\n",
    "               'febrero':2,\n",
    "               'marzo':3,\n",
    "               'abril':4,\n",
    "               'mayo':5,\n",
    "               'junio':6,\n",
    "               'julio':7,\n",
    "               'agosto':8,\n",
    "               'septiembre':9,\n",
    "               'octubre':10,\n",
    "               'noviembre':11,\n",
    "               'diciembre':12}\n",
    "mes_dic['enero']"
   ]
  },
  {
   "cell_type": "code",
   "execution_count": 22,
   "metadata": {},
   "outputs": [
    {
     "data": {
      "text/plain": [
       "np.int64(3032)"
      ]
     },
     "execution_count": 22,
     "metadata": {},
     "output_type": "execute_result"
    }
   ],
   "source": [
    "(df['release_month'] == 2).sum()"
   ]
  }
 ],
 "metadata": {
  "kernelspec": {
   "display_name": ".venv",
   "language": "python",
   "name": "python3"
  },
  "language_info": {
   "codemirror_mode": {
    "name": "ipython",
    "version": 3
   },
   "file_extension": ".py",
   "mimetype": "text/x-python",
   "name": "python",
   "nbconvert_exporter": "python",
   "pygments_lexer": "ipython3",
   "version": "3.12.5"
  }
 },
 "nbformat": 4,
 "nbformat_minor": 2
}
