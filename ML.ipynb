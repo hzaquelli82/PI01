{
 "cells": [
  {
   "cell_type": "markdown",
   "metadata": {},
   "source": [
    "# Modelizar y crear función de recomendación"
   ]
  },
  {
   "cell_type": "markdown",
   "metadata": {},
   "source": [
    "### Importar librerias"
   ]
  },
  {
   "cell_type": "code",
   "execution_count": 1,
   "metadata": {},
   "outputs": [],
   "source": [
    "import pandas as pd\n",
    "import numpy as np\n"
   ]
  },
  {
   "cell_type": "markdown",
   "metadata": {},
   "source": [
    "### Cargar Dataset"
   ]
  },
  {
   "cell_type": "code",
   "execution_count": 2,
   "metadata": {},
   "outputs": [
    {
     "name": "stdout",
     "output_type": "stream",
     "text": [
      "<class 'pandas.core.frame.DataFrame'>\n",
      "RangeIndex: 32184 entries, 0 to 32183\n",
      "Data columns (total 9 columns):\n",
      " #   Column        Non-Null Count  Dtype  \n",
      "---  ------        --------------  -----  \n",
      " 0   id            32184 non-null  int64  \n",
      " 1   title         32184 non-null  object \n",
      " 2   release_year  32184 non-null  int32  \n",
      " 3   genres        30543 non-null  object \n",
      " 4   tagline       17914 non-null  object \n",
      " 5   overview      32184 non-null  object \n",
      " 6   vote_average  32184 non-null  float64\n",
      " 7   actores       30295 non-null  object \n",
      " 8   director      31500 non-null  object \n",
      "dtypes: float64(1), int32(1), int64(1), object(6)\n",
      "memory usage: 2.1+ MB\n"
     ]
    }
   ],
   "source": [
    "#Importo dataset\n",
    "df = pd.read_parquet('datasets_ml.parquet')\n",
    "df.info()"
   ]
  },
  {
   "cell_type": "markdown",
   "metadata": {},
   "source": [
    "#### Eliminar valores nulos"
   ]
  },
  {
   "cell_type": "code",
   "execution_count": 3,
   "metadata": {},
   "outputs": [],
   "source": [
    "df = df[df['genres'].notna()]\n",
    "df = df[df['actores'].notna()]"
   ]
  },
  {
   "cell_type": "code",
   "execution_count": 4,
   "metadata": {},
   "outputs": [
    {
     "name": "stdout",
     "output_type": "stream",
     "text": [
      "<class 'pandas.core.frame.DataFrame'>\n",
      "Index: 29216 entries, 0 to 32183\n",
      "Data columns (total 9 columns):\n",
      " #   Column        Non-Null Count  Dtype  \n",
      "---  ------        --------------  -----  \n",
      " 0   id            29216 non-null  int64  \n",
      " 1   title         29216 non-null  object \n",
      " 2   release_year  29216 non-null  int32  \n",
      " 3   genres        29216 non-null  object \n",
      " 4   tagline       17378 non-null  object \n",
      " 5   overview      29216 non-null  object \n",
      " 6   vote_average  29216 non-null  float64\n",
      " 7   actores       29216 non-null  object \n",
      " 8   director      28946 non-null  object \n",
      "dtypes: float64(1), int32(1), int64(1), object(6)\n",
      "memory usage: 2.1+ MB\n"
     ]
    }
   ],
   "source": [
    "df.info()"
   ]
  },
  {
   "cell_type": "code",
   "execution_count": 5,
   "metadata": {},
   "outputs": [
    {
     "data": {
      "text/plain": [
       "Index(['id', 'title', 'release_year', 'genres', 'tagline', 'overview',\n",
       "       'vote_average', 'actores', 'director'],\n",
       "      dtype='object')"
      ]
     },
     "execution_count": 5,
     "metadata": {},
     "output_type": "execute_result"
    }
   ],
   "source": [
    "df.columns"
   ]
  },
  {
   "cell_type": "markdown",
   "metadata": {},
   "source": [
    "#### Seleccionar peliculas por año"
   ]
  },
  {
   "cell_type": "markdown",
   "metadata": {},
   "source": [
    "Como en el EDA, hay un incremento en las películas registradas en el dataset a partir de 1990. Intenté reducir en ese tamaño el dataset pero generó una matriz muy grande. Asi que reduje el tamaño tomando peliculas más modernas.\n",
    "2015 es el año en que nació mi tercer hijo, asi que considero que podría ser un recomendador para él."
   ]
  },
  {
   "cell_type": "code",
   "execution_count": 6,
   "metadata": {},
   "outputs": [],
   "source": [
    "mask = df['release_year'] > 2010\n",
    "df =  df[mask]"
   ]
  },
  {
   "cell_type": "markdown",
   "metadata": {},
   "source": [
    "#### Unir características útiles"
   ]
  },
  {
   "cell_type": "code",
   "execution_count": 7,
   "metadata": {},
   "outputs": [],
   "source": [
    "#Concateno informacion a usar\n",
    "df['features'] = df['genres'].str.cat([df['overview'], df['director']], sep=' ')"
   ]
  },
  {
   "cell_type": "code",
   "execution_count": 8,
   "metadata": {},
   "outputs": [
    {
     "name": "stdout",
     "output_type": "stream",
     "text": [
      "<class 'pandas.core.series.Series'>\n",
      "Index: 6954 entries, 24364 to 32183\n",
      "Series name: features\n",
      "Non-Null Count  Dtype \n",
      "--------------  ----- \n",
      "6878 non-null   object\n",
      "dtypes: object(1)\n",
      "memory usage: 108.7+ KB\n"
     ]
    }
   ],
   "source": [
    "df['features'].info()"
   ]
  },
  {
   "cell_type": "code",
   "execution_count": 9,
   "metadata": {},
   "outputs": [
    {
     "data": {
      "text/html": [
       "<div>\n",
       "<style scoped>\n",
       "    .dataframe tbody tr th:only-of-type {\n",
       "        vertical-align: middle;\n",
       "    }\n",
       "\n",
       "    .dataframe tbody tr th {\n",
       "        vertical-align: top;\n",
       "    }\n",
       "\n",
       "    .dataframe thead th {\n",
       "        text-align: right;\n",
       "    }\n",
       "</style>\n",
       "<table border=\"1\" class=\"dataframe\">\n",
       "  <thead>\n",
       "    <tr style=\"text-align: right;\">\n",
       "      <th></th>\n",
       "      <th>id</th>\n",
       "      <th>title</th>\n",
       "      <th>release_year</th>\n",
       "      <th>genres</th>\n",
       "      <th>tagline</th>\n",
       "      <th>overview</th>\n",
       "      <th>vote_average</th>\n",
       "      <th>actores</th>\n",
       "      <th>director</th>\n",
       "      <th>features</th>\n",
       "    </tr>\n",
       "  </thead>\n",
       "  <tbody>\n",
       "    <tr>\n",
       "      <th>24364</th>\n",
       "      <td>123969</td>\n",
       "      <td>the backwater gospel</td>\n",
       "      <td>2011</td>\n",
       "      <td>horror anim</td>\n",
       "      <td>None</td>\n",
       "      <td>backwat doom regular visit undertak dweller bl...</td>\n",
       "      <td>7.9</td>\n",
       "      <td>lucien dodg laura post phillip sacramento zebu...</td>\n",
       "      <td>mathorn</td>\n",
       "      <td>horror anim backwat doom regular visit underta...</td>\n",
       "    </tr>\n",
       "    <tr>\n",
       "      <th>24365</th>\n",
       "      <td>64820</td>\n",
       "      <td>the crimson petal and the white</td>\n",
       "      <td>2011</td>\n",
       "      <td>romanc drama</td>\n",
       "      <td>None</td>\n",
       "      <td>set london young prostitut find potenti power ...</td>\n",
       "      <td>8.4</td>\n",
       "      <td>romola garai chri dowd amanda hale kati lyon e...</td>\n",
       "      <td>marc munden</td>\n",
       "      <td>romanc drama set london young prostitut find p...</td>\n",
       "    </tr>\n",
       "    <tr>\n",
       "      <th>24367</th>\n",
       "      <td>211220</td>\n",
       "      <td>the pig farm</td>\n",
       "      <td>2011</td>\n",
       "      <td>documentari</td>\n",
       "      <td>None</td>\n",
       "      <td>stori robert pickton canada prolif serial killer</td>\n",
       "      <td>0.0</td>\n",
       "      <td>maggi huculak</td>\n",
       "      <td>christin nielsen</td>\n",
       "      <td>documentari stori robert pickton canada prolif...</td>\n",
       "    </tr>\n",
       "    <tr>\n",
       "      <th>24369</th>\n",
       "      <td>243279</td>\n",
       "      <td>low fidelity</td>\n",
       "      <td>2011</td>\n",
       "      <td>drama</td>\n",
       "      <td>None</td>\n",
       "      <td>dramedi relationship fidel lack thereof group ...</td>\n",
       "      <td>7.5</td>\n",
       "      <td>quinn meredith monro gale harold lauren stamil...</td>\n",
       "      <td>devon gummersal</td>\n",
       "      <td>drama dramedi relationship fidel lack thereof ...</td>\n",
       "    </tr>\n",
       "    <tr>\n",
       "      <th>24370</th>\n",
       "      <td>268956</td>\n",
       "      <td>bubblegum and broken fingers</td>\n",
       "      <td>2011</td>\n",
       "      <td>western crime drama</td>\n",
       "      <td>girl gun crime</td>\n",
       "      <td>plan damn sure part someon els quot kick first...</td>\n",
       "      <td>2.3</td>\n",
       "      <td>camm tyla mandi william brenna dali jason niou...</td>\n",
       "      <td>sean jackson</td>\n",
       "      <td>western crime drama plan damn sure part someon...</td>\n",
       "    </tr>\n",
       "    <tr>\n",
       "      <th>...</th>\n",
       "      <td>...</td>\n",
       "      <td>...</td>\n",
       "      <td>...</td>\n",
       "      <td>...</td>\n",
       "      <td>...</td>\n",
       "      <td>...</td>\n",
       "      <td>...</td>\n",
       "      <td>...</td>\n",
       "      <td>...</td>\n",
       "      <td>...</td>\n",
       "    </tr>\n",
       "    <tr>\n",
       "      <th>32179</th>\n",
       "      <td>412059</td>\n",
       "      <td>mobile homes</td>\n",
       "      <td>2018</td>\n",
       "      <td>drama</td>\n",
       "      <td>None</td>\n",
       "      <td>forgotten town along american border young mot...</td>\n",
       "      <td>0.0</td>\n",
       "      <td>imogen poot callum turner callum keith renni f...</td>\n",
       "      <td>vladimir fontenay</td>\n",
       "      <td>drama forgotten town along american border you...</td>\n",
       "    </tr>\n",
       "    <tr>\n",
       "      <th>32180</th>\n",
       "      <td>332283</td>\n",
       "      <td>mary shelley</td>\n",
       "      <td>2018</td>\n",
       "      <td>drama romanc</td>\n",
       "      <td>None</td>\n",
       "      <td>love affair poet perci shelley year old mari w...</td>\n",
       "      <td>0.0</td>\n",
       "      <td>ell fan dougla booth bel powley maisi william ...</td>\n",
       "      <td>haifaa mansour</td>\n",
       "      <td>drama romanc love affair poet perci shelley ye...</td>\n",
       "    </tr>\n",
       "    <tr>\n",
       "      <th>32181</th>\n",
       "      <td>38700</td>\n",
       "      <td>bad boys for life</td>\n",
       "      <td>2018</td>\n",
       "      <td>thriller action crime</td>\n",
       "      <td>None</td>\n",
       "      <td>continu adventur miami detect mike lowrey marc...</td>\n",
       "      <td>0.0</td>\n",
       "      <td>smith martin lawrenc derrick gilbert</td>\n",
       "      <td>joe carnahan</td>\n",
       "      <td>thriller action crime continu adventur miami d...</td>\n",
       "    </tr>\n",
       "    <tr>\n",
       "      <th>32182</th>\n",
       "      <td>299782</td>\n",
       "      <td>the other side of the wind</td>\n",
       "      <td>2018</td>\n",
       "      <td>comedi drama</td>\n",
       "      <td>None</td>\n",
       "      <td>orson well unfinish masterpiec restor assembl ...</td>\n",
       "      <td>0.0</td>\n",
       "      <td>john huston robert random peter bogdanovich su...</td>\n",
       "      <td>orson well</td>\n",
       "      <td>comedi drama orson well unfinish masterpiec re...</td>\n",
       "    </tr>\n",
       "    <tr>\n",
       "      <th>32183</th>\n",
       "      <td>76600</td>\n",
       "      <td>avatar 2</td>\n",
       "      <td>2020</td>\n",
       "      <td>action adventur fantasi scienc fiction</td>\n",
       "      <td>None</td>\n",
       "      <td>sequel avatar</td>\n",
       "      <td>0.0</td>\n",
       "      <td>kate winslet zoe saldana sam worthington sigou...</td>\n",
       "      <td>jame cameron</td>\n",
       "      <td>action adventur fantasi scienc fiction sequel ...</td>\n",
       "    </tr>\n",
       "  </tbody>\n",
       "</table>\n",
       "<p>6954 rows × 10 columns</p>\n",
       "</div>"
      ],
      "text/plain": [
       "           id                            title  release_year  \\\n",
       "24364  123969             the backwater gospel          2011   \n",
       "24365   64820  the crimson petal and the white          2011   \n",
       "24367  211220                     the pig farm          2011   \n",
       "24369  243279                     low fidelity          2011   \n",
       "24370  268956     bubblegum and broken fingers          2011   \n",
       "...       ...                              ...           ...   \n",
       "32179  412059                     mobile homes          2018   \n",
       "32180  332283                     mary shelley          2018   \n",
       "32181   38700                bad boys for life          2018   \n",
       "32182  299782       the other side of the wind          2018   \n",
       "32183   76600                         avatar 2          2020   \n",
       "\n",
       "                                       genres         tagline  \\\n",
       "24364                             horror anim            None   \n",
       "24365                            romanc drama            None   \n",
       "24367                             documentari            None   \n",
       "24369                                   drama            None   \n",
       "24370                     western crime drama  girl gun crime   \n",
       "...                                       ...             ...   \n",
       "32179                                   drama            None   \n",
       "32180                            drama romanc            None   \n",
       "32181                   thriller action crime            None   \n",
       "32182                            comedi drama            None   \n",
       "32183  action adventur fantasi scienc fiction            None   \n",
       "\n",
       "                                                overview  vote_average  \\\n",
       "24364  backwat doom regular visit undertak dweller bl...           7.9   \n",
       "24365  set london young prostitut find potenti power ...           8.4   \n",
       "24367   stori robert pickton canada prolif serial killer           0.0   \n",
       "24369  dramedi relationship fidel lack thereof group ...           7.5   \n",
       "24370  plan damn sure part someon els quot kick first...           2.3   \n",
       "...                                                  ...           ...   \n",
       "32179  forgotten town along american border young mot...           0.0   \n",
       "32180  love affair poet perci shelley year old mari w...           0.0   \n",
       "32181  continu adventur miami detect mike lowrey marc...           0.0   \n",
       "32182  orson well unfinish masterpiec restor assembl ...           0.0   \n",
       "32183                                      sequel avatar           0.0   \n",
       "\n",
       "                                                 actores           director  \\\n",
       "24364  lucien dodg laura post phillip sacramento zebu...            mathorn   \n",
       "24365  romola garai chri dowd amanda hale kati lyon e...        marc munden   \n",
       "24367                                      maggi huculak   christin nielsen   \n",
       "24369  quinn meredith monro gale harold lauren stamil...    devon gummersal   \n",
       "24370  camm tyla mandi william brenna dali jason niou...       sean jackson   \n",
       "...                                                  ...                ...   \n",
       "32179  imogen poot callum turner callum keith renni f...  vladimir fontenay   \n",
       "32180  ell fan dougla booth bel powley maisi william ...     haifaa mansour   \n",
       "32181               smith martin lawrenc derrick gilbert       joe carnahan   \n",
       "32182  john huston robert random peter bogdanovich su...         orson well   \n",
       "32183  kate winslet zoe saldana sam worthington sigou...       jame cameron   \n",
       "\n",
       "                                                features  \n",
       "24364  horror anim backwat doom regular visit underta...  \n",
       "24365  romanc drama set london young prostitut find p...  \n",
       "24367  documentari stori robert pickton canada prolif...  \n",
       "24369  drama dramedi relationship fidel lack thereof ...  \n",
       "24370  western crime drama plan damn sure part someon...  \n",
       "...                                                  ...  \n",
       "32179  drama forgotten town along american border you...  \n",
       "32180  drama romanc love affair poet perci shelley ye...  \n",
       "32181  thriller action crime continu adventur miami d...  \n",
       "32182  comedi drama orson well unfinish masterpiec re...  \n",
       "32183  action adventur fantasi scienc fiction sequel ...  \n",
       "\n",
       "[6954 rows x 10 columns]"
      ]
     },
     "execution_count": 9,
     "metadata": {},
     "output_type": "execute_result"
    }
   ],
   "source": [
    "df"
   ]
  },
  {
   "cell_type": "markdown",
   "metadata": {},
   "source": [
    "#### Seleccionamos los campos a utilizar para entrenar"
   ]
  },
  {
   "cell_type": "code",
   "execution_count": 10,
   "metadata": {},
   "outputs": [],
   "source": [
    "df = df[['id','title','features']]"
   ]
  },
  {
   "cell_type": "markdown",
   "metadata": {},
   "source": [
    "ELiminar datos nulos"
   ]
  },
  {
   "cell_type": "code",
   "execution_count": 11,
   "metadata": {},
   "outputs": [
    {
     "name": "stderr",
     "output_type": "stream",
     "text": [
      "/tmp/ipykernel_2149998/1379821321.py:1: SettingWithCopyWarning: \n",
      "A value is trying to be set on a copy of a slice from a DataFrame\n",
      "\n",
      "See the caveats in the documentation: https://pandas.pydata.org/pandas-docs/stable/user_guide/indexing.html#returning-a-view-versus-a-copy\n",
      "  df.dropna(inplace=True)\n"
     ]
    }
   ],
   "source": [
    "df.dropna(inplace=True)"
   ]
  },
  {
   "cell_type": "code",
   "execution_count": 12,
   "metadata": {},
   "outputs": [
    {
     "name": "stdout",
     "output_type": "stream",
     "text": [
      "<class 'pandas.core.frame.DataFrame'>\n",
      "Index: 6878 entries, 24364 to 32183\n",
      "Data columns (total 3 columns):\n",
      " #   Column    Non-Null Count  Dtype \n",
      "---  ------    --------------  ----- \n",
      " 0   id        6878 non-null   int64 \n",
      " 1   title     6878 non-null   object\n",
      " 2   features  6878 non-null   object\n",
      "dtypes: int64(1), object(2)\n",
      "memory usage: 214.9+ KB\n"
     ]
    }
   ],
   "source": [
    "df.info()"
   ]
  },
  {
   "cell_type": "markdown",
   "metadata": {},
   "source": [
    "### Entrenamiento del modelo"
   ]
  },
  {
   "cell_type": "markdown",
   "metadata": {},
   "source": [
    "Utilizo un modelo TF-IDF para vectorizar los textos de las características seleccionadas. Creando una matriz de vectores para utilizar en el cálculo de similitud del coseno"
   ]
  },
  {
   "cell_type": "code",
   "execution_count": 13,
   "metadata": {},
   "outputs": [],
   "source": [
    "import pandas as pd\n",
    "from sklearn.feature_extraction.text import TfidfVectorizer\n",
    "from sklearn.metrics.pairwise import cosine_similarity\n",
    "\n",
    "# Crea un vectorizador TF-IDF\n",
    "vectorizer = TfidfVectorizer(stop_words=\"english\", ngram_range=(1, 2))\n",
    "\n",
    "# Ajusta el vectorizador a la columna 'overview' y transforma los datos\n",
    "tfidf_matrix = vectorizer.fit_transform(df['features'])\n",
    "\n",
    "# Calcula la similitud coseno entre los vectores\n",
    "similarity_matrix = cosine_similarity(tfidf_matrix)\n",
    "\n"
   ]
  },
  {
   "cell_type": "code",
   "execution_count": 14,
   "metadata": {},
   "outputs": [],
   "source": [
    "# Define una función para obtener las películas similares a una película dada\n",
    "def get_similar_movies(movie, N=5):\n",
    "\n",
    "    #Poner en minúsculas\n",
    "    movie = movie.lower()\n",
    "    # Buscar la película en la base de datos\n",
    "    movie_id = df.loc[df['title'] == movie, 'id'].values[0]\n",
    "    # Obtiene el índice de la película en la matriz de similitud\n",
    "    idx = np.where(df['id'] == movie_id)[0][0]\n",
    "    \n",
    "    # Obtiene las puntuaciones de similitud para la película\n",
    "    scores = list(enumerate(similarity_matrix[idx]))\n",
    "    \n",
    "    # Ordena las puntuaciones en orden descendente\n",
    "    scores.sort(key=lambda x: x[1], reverse=True)\n",
    "    \n",
    "    # Obtiene las películas similares\n",
    "    similar_movies = [df.iloc[i,1] for i, _ in scores[1:N+1]]\n",
    "    \n",
    "    return similar_movies\n"
   ]
  },
  {
   "cell_type": "code",
   "execution_count": 15,
   "metadata": {},
   "outputs": [],
   "source": [
    "# Ejemplo de uso:\n",
    "# movie = 'avatar' \n",
    "# int(df['id'][df['title'] == movie])\n",
    "# df.loc[df['title'] == movie, 'id']\n",
    "# df.loc[df['title'] == movie, 'id'].values[0]"
   ]
  },
  {
   "cell_type": "code",
   "execution_count": 16,
   "metadata": {},
   "outputs": [
    {
     "name": "stdout",
     "output_type": "stream",
     "text": [
      "['doctor strange', 'almighty thor', 'x-men: days of future past', 'man of steel', 'thor: ragnarok']\n"
     ]
    }
   ],
   "source": [
    "# Ejemplo de uso:\n",
    "movie = 'avatar 2'  # Reemplaza con el ID de la película para la que deseas obtener recomendaciones\n",
    "similar_movies = get_similar_movies(movie)\n",
    "\n",
    "print(similar_movies)"
   ]
  },
  {
   "cell_type": "code",
   "execution_count": 17,
   "metadata": {},
   "outputs": [],
   "source": [
    "df.to_parquet('ml.parquet',engine='pyarrow')"
   ]
  },
  {
   "cell_type": "code",
   "execution_count": 18,
   "metadata": {},
   "outputs": [],
   "source": [
    "import pickle\n",
    "\n",
    "with open('data.pkl', 'wb') as f:\n",
    "    pickle.dump(similarity_matrix, f)"
   ]
  }
 ],
 "metadata": {
  "kernelspec": {
   "display_name": ".venv",
   "language": "python",
   "name": "python3"
  },
  "language_info": {
   "codemirror_mode": {
    "name": "ipython",
    "version": 3
   },
   "file_extension": ".py",
   "mimetype": "text/x-python",
   "name": "python",
   "nbconvert_exporter": "python",
   "pygments_lexer": "ipython3",
   "version": "3.12.5"
  }
 },
 "nbformat": 4,
 "nbformat_minor": 2
}
