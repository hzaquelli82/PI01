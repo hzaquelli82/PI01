{
 "cells": [
  {
   "cell_type": "markdown",
   "metadata": {},
   "source": [
    "# Modelizar y crear función de recomendación"
   ]
  },
  {
   "cell_type": "markdown",
   "metadata": {},
   "source": [
    "### Importar librerias"
   ]
  },
  {
   "cell_type": "code",
   "execution_count": 1,
   "metadata": {},
   "outputs": [],
   "source": [
    "import pandas as pd\n",
    "import numpy as np\n"
   ]
  },
  {
   "cell_type": "markdown",
   "metadata": {},
   "source": [
    "### Cargar Dataset"
   ]
  },
  {
   "cell_type": "code",
   "execution_count": 2,
   "metadata": {},
   "outputs": [
    {
     "name": "stdout",
     "output_type": "stream",
     "text": [
      "<class 'pandas.core.frame.DataFrame'>\n",
      "RangeIndex: 32184 entries, 0 to 32183\n",
      "Data columns (total 9 columns):\n",
      " #   Column        Non-Null Count  Dtype  \n",
      "---  ------        --------------  -----  \n",
      " 0   id            32184 non-null  int64  \n",
      " 1   title         32184 non-null  object \n",
      " 2   release_year  32184 non-null  int32  \n",
      " 3   genres        30543 non-null  object \n",
      " 4   tagline       17914 non-null  object \n",
      " 5   overview      32184 non-null  object \n",
      " 6   vote_average  32184 non-null  float64\n",
      " 7   actores       30295 non-null  object \n",
      " 8   director      31500 non-null  object \n",
      "dtypes: float64(1), int32(1), int64(1), object(6)\n",
      "memory usage: 2.1+ MB\n"
     ]
    }
   ],
   "source": [
    "#Importo dataset\n",
    "df = pd.read_parquet('datasets_ml.parquet')\n",
    "df.info()"
   ]
  },
  {
   "cell_type": "markdown",
   "metadata": {},
   "source": [
    "#### Eliminar valores nulos"
   ]
  },
  {
   "cell_type": "code",
   "execution_count": 3,
   "metadata": {},
   "outputs": [],
   "source": [
    "df = df[df['genres'].notna()]\n",
    "df = df[df['actores'].notna()]"
   ]
  },
  {
   "cell_type": "code",
   "execution_count": 4,
   "metadata": {},
   "outputs": [
    {
     "name": "stdout",
     "output_type": "stream",
     "text": [
      "<class 'pandas.core.frame.DataFrame'>\n",
      "Index: 29216 entries, 0 to 32183\n",
      "Data columns (total 9 columns):\n",
      " #   Column        Non-Null Count  Dtype  \n",
      "---  ------        --------------  -----  \n",
      " 0   id            29216 non-null  int64  \n",
      " 1   title         29216 non-null  object \n",
      " 2   release_year  29216 non-null  int32  \n",
      " 3   genres        29216 non-null  object \n",
      " 4   tagline       17378 non-null  object \n",
      " 5   overview      29216 non-null  object \n",
      " 6   vote_average  29216 non-null  float64\n",
      " 7   actores       29216 non-null  object \n",
      " 8   director      28946 non-null  object \n",
      "dtypes: float64(1), int32(1), int64(1), object(6)\n",
      "memory usage: 2.1+ MB\n"
     ]
    }
   ],
   "source": [
    "df.info()"
   ]
  },
  {
   "cell_type": "code",
   "execution_count": 5,
   "metadata": {},
   "outputs": [
    {
     "data": {
      "text/plain": [
       "Index(['id', 'title', 'release_year', 'genres', 'tagline', 'overview',\n",
       "       'vote_average', 'actores', 'director'],\n",
       "      dtype='object')"
      ]
     },
     "execution_count": 5,
     "metadata": {},
     "output_type": "execute_result"
    }
   ],
   "source": [
    "df.columns"
   ]
  },
  {
   "cell_type": "markdown",
   "metadata": {},
   "source": [
    "#### Seleccionar peliculas por año"
   ]
  },
  {
   "cell_type": "markdown",
   "metadata": {},
   "source": [
    "Como en el EDA, hay un incremento en las películas registradas en el dataset a partir de 1990. Intenté reducir en ese tamaño el dataset pero generó una matriz muy grande. Asi que reduje el tamaño tomando peliculas más modernas.\n",
    "2015 es el año en que nació mi tercer hijo, asi que considero que podría ser un recomendador para él."
   ]
  },
  {
   "cell_type": "code",
   "execution_count": 6,
   "metadata": {},
   "outputs": [],
   "source": [
    "mask = df['release_year'] > 2014\n",
    "df =  df[mask]"
   ]
  },
  {
   "cell_type": "markdown",
   "metadata": {},
   "source": [
    "#### Unir características útiles"
   ]
  },
  {
   "cell_type": "code",
   "execution_count": 7,
   "metadata": {},
   "outputs": [],
   "source": [
    "#Concateno informacion a usar\n",
    "df['features'] = df['genres'].str.cat([df['overview'], df['director']], sep=' ')"
   ]
  },
  {
   "cell_type": "code",
   "execution_count": 8,
   "metadata": {},
   "outputs": [
    {
     "name": "stdout",
     "output_type": "stream",
     "text": [
      "<class 'pandas.core.series.Series'>\n",
      "Index: 2563 entries, 29398 to 32183\n",
      "Series name: features\n",
      "Non-Null Count  Dtype \n",
      "--------------  ----- \n",
      "2536 non-null   object\n",
      "dtypes: object(1)\n",
      "memory usage: 40.0+ KB\n"
     ]
    }
   ],
   "source": [
    "df['features'].info()"
   ]
  },
  {
   "cell_type": "code",
   "execution_count": 9,
   "metadata": {},
   "outputs": [
    {
     "data": {
      "text/html": [
       "<div>\n",
       "<style scoped>\n",
       "    .dataframe tbody tr th:only-of-type {\n",
       "        vertical-align: middle;\n",
       "    }\n",
       "\n",
       "    .dataframe tbody tr th {\n",
       "        vertical-align: top;\n",
       "    }\n",
       "\n",
       "    .dataframe thead th {\n",
       "        text-align: right;\n",
       "    }\n",
       "</style>\n",
       "<table border=\"1\" class=\"dataframe\">\n",
       "  <thead>\n",
       "    <tr style=\"text-align: right;\">\n",
       "      <th></th>\n",
       "      <th>id</th>\n",
       "      <th>title</th>\n",
       "      <th>release_year</th>\n",
       "      <th>genres</th>\n",
       "      <th>tagline</th>\n",
       "      <th>overview</th>\n",
       "      <th>vote_average</th>\n",
       "      <th>actores</th>\n",
       "      <th>director</th>\n",
       "      <th>features</th>\n",
       "    </tr>\n",
       "  </thead>\n",
       "  <tbody>\n",
       "    <tr>\n",
       "      <th>29398</th>\n",
       "      <td>341051</td>\n",
       "      <td>deep dark</td>\n",
       "      <td>2015</td>\n",
       "      <td>horror</td>\n",
       "      <td>None</td>\n",
       "      <td>fantasi fail sculptor discov strang talk hole ...</td>\n",
       "      <td>5.0</td>\n",
       "      <td>sean mcgrath denis poirier ann sorc tabor helt...</td>\n",
       "      <td>michael medaglia</td>\n",
       "      <td>horror fantasi fail sculptor discov strang tal...</td>\n",
       "    </tr>\n",
       "    <tr>\n",
       "      <th>29399</th>\n",
       "      <td>353406</td>\n",
       "      <td>manoman</td>\n",
       "      <td>2015</td>\n",
       "      <td>drama anim</td>\n",
       "      <td>None</td>\n",
       "      <td>gleefulli anarch tour forc puppetri primal scr...</td>\n",
       "      <td>7.0</td>\n",
       "      <td>gordon peardon</td>\n",
       "      <td>simon cartwright</td>\n",
       "      <td>drama anim gleefulli anarch tour forc puppetri...</td>\n",
       "    </tr>\n",
       "    <tr>\n",
       "      <th>29400</th>\n",
       "      <td>380013</td>\n",
       "      <td>nobody walks in l.a.</td>\n",
       "      <td>2015</td>\n",
       "      <td>romanc comedi drama</td>\n",
       "      <td>None</td>\n",
       "      <td>nobodi walk stori two old friend face decis wa...</td>\n",
       "      <td>9.5</td>\n",
       "      <td>adam shapiro kim shaw peter breitmay</td>\n",
       "      <td>jess shapiro</td>\n",
       "      <td>romanc comedi drama nobodi walk stori two old ...</td>\n",
       "    </tr>\n",
       "    <tr>\n",
       "      <th>29402</th>\n",
       "      <td>322266</td>\n",
       "      <td>buddy hutchins</td>\n",
       "      <td>2015</td>\n",
       "      <td>thriller</td>\n",
       "      <td>bad day bad day</td>\n",
       "      <td>busi shambl mount crimin record cheat wife tod...</td>\n",
       "      <td>3.3</td>\n",
       "      <td>jami kennedi salli kirkland sara malakul lane ...</td>\n",
       "      <td>jare cohn</td>\n",
       "      <td>thriller busi shambl mount crimin record cheat...</td>\n",
       "    </tr>\n",
       "    <tr>\n",
       "      <th>29403</th>\n",
       "      <td>382651</td>\n",
       "      <td>helix</td>\n",
       "      <td>2015</td>\n",
       "      <td>action mysteri scienc fiction</td>\n",
       "      <td>everyth chang</td>\n",
       "      <td>low level cop aiden magnusson solv infam crime...</td>\n",
       "      <td>4.9</td>\n",
       "      <td>robert duncan marc petey david stuart rhonda d...</td>\n",
       "      <td>eric petey</td>\n",
       "      <td>action mysteri scienc fiction low level cop ai...</td>\n",
       "    </tr>\n",
       "    <tr>\n",
       "      <th>...</th>\n",
       "      <td>...</td>\n",
       "      <td>...</td>\n",
       "      <td>...</td>\n",
       "      <td>...</td>\n",
       "      <td>...</td>\n",
       "      <td>...</td>\n",
       "      <td>...</td>\n",
       "      <td>...</td>\n",
       "      <td>...</td>\n",
       "      <td>...</td>\n",
       "    </tr>\n",
       "    <tr>\n",
       "      <th>32179</th>\n",
       "      <td>412059</td>\n",
       "      <td>mobile homes</td>\n",
       "      <td>2018</td>\n",
       "      <td>drama</td>\n",
       "      <td>None</td>\n",
       "      <td>forgotten town along american border young mot...</td>\n",
       "      <td>0.0</td>\n",
       "      <td>imogen poot callum turner callum keith renni f...</td>\n",
       "      <td>vladimir fontenay</td>\n",
       "      <td>drama forgotten town along american border you...</td>\n",
       "    </tr>\n",
       "    <tr>\n",
       "      <th>32180</th>\n",
       "      <td>332283</td>\n",
       "      <td>mary shelley</td>\n",
       "      <td>2018</td>\n",
       "      <td>drama romanc</td>\n",
       "      <td>None</td>\n",
       "      <td>love affair poet perci shelley year old mari w...</td>\n",
       "      <td>0.0</td>\n",
       "      <td>ell fan dougla booth bel powley maisi william ...</td>\n",
       "      <td>haifaa mansour</td>\n",
       "      <td>drama romanc love affair poet perci shelley ye...</td>\n",
       "    </tr>\n",
       "    <tr>\n",
       "      <th>32181</th>\n",
       "      <td>38700</td>\n",
       "      <td>bad boys for life</td>\n",
       "      <td>2018</td>\n",
       "      <td>thriller action crime</td>\n",
       "      <td>None</td>\n",
       "      <td>continu adventur miami detect mike lowrey marc...</td>\n",
       "      <td>0.0</td>\n",
       "      <td>smith martin lawrenc derrick gilbert</td>\n",
       "      <td>joe carnahan</td>\n",
       "      <td>thriller action crime continu adventur miami d...</td>\n",
       "    </tr>\n",
       "    <tr>\n",
       "      <th>32182</th>\n",
       "      <td>299782</td>\n",
       "      <td>the other side of the wind</td>\n",
       "      <td>2018</td>\n",
       "      <td>comedi drama</td>\n",
       "      <td>None</td>\n",
       "      <td>orson well unfinish masterpiec restor assembl ...</td>\n",
       "      <td>0.0</td>\n",
       "      <td>john huston robert random peter bogdanovich su...</td>\n",
       "      <td>orson well</td>\n",
       "      <td>comedi drama orson well unfinish masterpiec re...</td>\n",
       "    </tr>\n",
       "    <tr>\n",
       "      <th>32183</th>\n",
       "      <td>76600</td>\n",
       "      <td>avatar 2</td>\n",
       "      <td>2020</td>\n",
       "      <td>action adventur fantasi scienc fiction</td>\n",
       "      <td>None</td>\n",
       "      <td>sequel avatar</td>\n",
       "      <td>0.0</td>\n",
       "      <td>kate winslet zoe saldana sam worthington sigou...</td>\n",
       "      <td>jame cameron</td>\n",
       "      <td>action adventur fantasi scienc fiction sequel ...</td>\n",
       "    </tr>\n",
       "  </tbody>\n",
       "</table>\n",
       "<p>2563 rows × 10 columns</p>\n",
       "</div>"
      ],
      "text/plain": [
       "           id                       title  release_year  \\\n",
       "29398  341051                   deep dark          2015   \n",
       "29399  353406                     manoman          2015   \n",
       "29400  380013        nobody walks in l.a.          2015   \n",
       "29402  322266              buddy hutchins          2015   \n",
       "29403  382651                       helix          2015   \n",
       "...       ...                         ...           ...   \n",
       "32179  412059                mobile homes          2018   \n",
       "32180  332283                mary shelley          2018   \n",
       "32181   38700           bad boys for life          2018   \n",
       "32182  299782  the other side of the wind          2018   \n",
       "32183   76600                    avatar 2          2020   \n",
       "\n",
       "                                       genres          tagline  \\\n",
       "29398                                  horror             None   \n",
       "29399                              drama anim             None   \n",
       "29400                     romanc comedi drama             None   \n",
       "29402                                thriller  bad day bad day   \n",
       "29403           action mysteri scienc fiction    everyth chang   \n",
       "...                                       ...              ...   \n",
       "32179                                   drama             None   \n",
       "32180                            drama romanc             None   \n",
       "32181                   thriller action crime             None   \n",
       "32182                            comedi drama             None   \n",
       "32183  action adventur fantasi scienc fiction             None   \n",
       "\n",
       "                                                overview  vote_average  \\\n",
       "29398  fantasi fail sculptor discov strang talk hole ...           5.0   \n",
       "29399  gleefulli anarch tour forc puppetri primal scr...           7.0   \n",
       "29400  nobodi walk stori two old friend face decis wa...           9.5   \n",
       "29402  busi shambl mount crimin record cheat wife tod...           3.3   \n",
       "29403  low level cop aiden magnusson solv infam crime...           4.9   \n",
       "...                                                  ...           ...   \n",
       "32179  forgotten town along american border young mot...           0.0   \n",
       "32180  love affair poet perci shelley year old mari w...           0.0   \n",
       "32181  continu adventur miami detect mike lowrey marc...           0.0   \n",
       "32182  orson well unfinish masterpiec restor assembl ...           0.0   \n",
       "32183                                      sequel avatar           0.0   \n",
       "\n",
       "                                                 actores           director  \\\n",
       "29398  sean mcgrath denis poirier ann sorc tabor helt...   michael medaglia   \n",
       "29399                                     gordon peardon   simon cartwright   \n",
       "29400               adam shapiro kim shaw peter breitmay       jess shapiro   \n",
       "29402  jami kennedi salli kirkland sara malakul lane ...          jare cohn   \n",
       "29403  robert duncan marc petey david stuart rhonda d...         eric petey   \n",
       "...                                                  ...                ...   \n",
       "32179  imogen poot callum turner callum keith renni f...  vladimir fontenay   \n",
       "32180  ell fan dougla booth bel powley maisi william ...     haifaa mansour   \n",
       "32181               smith martin lawrenc derrick gilbert       joe carnahan   \n",
       "32182  john huston robert random peter bogdanovich su...         orson well   \n",
       "32183  kate winslet zoe saldana sam worthington sigou...       jame cameron   \n",
       "\n",
       "                                                features  \n",
       "29398  horror fantasi fail sculptor discov strang tal...  \n",
       "29399  drama anim gleefulli anarch tour forc puppetri...  \n",
       "29400  romanc comedi drama nobodi walk stori two old ...  \n",
       "29402  thriller busi shambl mount crimin record cheat...  \n",
       "29403  action mysteri scienc fiction low level cop ai...  \n",
       "...                                                  ...  \n",
       "32179  drama forgotten town along american border you...  \n",
       "32180  drama romanc love affair poet perci shelley ye...  \n",
       "32181  thriller action crime continu adventur miami d...  \n",
       "32182  comedi drama orson well unfinish masterpiec re...  \n",
       "32183  action adventur fantasi scienc fiction sequel ...  \n",
       "\n",
       "[2563 rows x 10 columns]"
      ]
     },
     "execution_count": 9,
     "metadata": {},
     "output_type": "execute_result"
    }
   ],
   "source": [
    "df"
   ]
  },
  {
   "cell_type": "markdown",
   "metadata": {},
   "source": [
    "#### Seleccionamos los campos a utilizar para entrenar"
   ]
  },
  {
   "cell_type": "code",
   "execution_count": 10,
   "metadata": {},
   "outputs": [],
   "source": [
    "df = df[['id','title','features']]"
   ]
  },
  {
   "cell_type": "markdown",
   "metadata": {},
   "source": [
    "ELiminar datos nulos"
   ]
  },
  {
   "cell_type": "code",
   "execution_count": 11,
   "metadata": {},
   "outputs": [
    {
     "name": "stderr",
     "output_type": "stream",
     "text": [
      "/tmp/ipykernel_2167085/1379821321.py:1: SettingWithCopyWarning: \n",
      "A value is trying to be set on a copy of a slice from a DataFrame\n",
      "\n",
      "See the caveats in the documentation: https://pandas.pydata.org/pandas-docs/stable/user_guide/indexing.html#returning-a-view-versus-a-copy\n",
      "  df.dropna(inplace=True)\n"
     ]
    }
   ],
   "source": [
    "df.dropna(inplace=True)"
   ]
  },
  {
   "cell_type": "code",
   "execution_count": 12,
   "metadata": {},
   "outputs": [
    {
     "name": "stdout",
     "output_type": "stream",
     "text": [
      "<class 'pandas.core.frame.DataFrame'>\n",
      "Index: 2536 entries, 29398 to 32183\n",
      "Data columns (total 3 columns):\n",
      " #   Column    Non-Null Count  Dtype \n",
      "---  ------    --------------  ----- \n",
      " 0   id        2536 non-null   int64 \n",
      " 1   title     2536 non-null   object\n",
      " 2   features  2536 non-null   object\n",
      "dtypes: int64(1), object(2)\n",
      "memory usage: 79.2+ KB\n"
     ]
    }
   ],
   "source": [
    "df.info()"
   ]
  },
  {
   "cell_type": "markdown",
   "metadata": {},
   "source": [
    "### Entrenamiento del modelo"
   ]
  },
  {
   "cell_type": "markdown",
   "metadata": {},
   "source": [
    "Utilizo un modelo TF-IDF para vectorizar los textos de las características seleccionadas. Creando una matriz de vectores para utilizar en el cálculo de similitud del coseno"
   ]
  },
  {
   "cell_type": "code",
   "execution_count": 13,
   "metadata": {},
   "outputs": [],
   "source": [
    "import pandas as pd\n",
    "from sklearn.feature_extraction.text import TfidfVectorizer\n",
    "from sklearn.metrics.pairwise import cosine_similarity\n",
    "\n",
    "# Crea un vectorizador TF-IDF\n",
    "vectorizer = TfidfVectorizer(stop_words=\"english\", ngram_range=(1, 2))\n",
    "\n",
    "# Ajusta el vectorizador a la columna 'overview' y transforma los datos\n",
    "tfidf_matrix = vectorizer.fit_transform(df['features'])\n",
    "\n",
    "# Calcula la similitud coseno entre los vectores\n",
    "similarity_matrix = cosine_similarity(tfidf_matrix)\n",
    "\n"
   ]
  },
  {
   "cell_type": "code",
   "execution_count": 14,
   "metadata": {},
   "outputs": [],
   "source": [
    "# Define una función para obtener las películas similares a una película dada\n",
    "def get_similar_movies(movie, N=5):\n",
    "\n",
    "    #Poner en minúsculas\n",
    "    movie = movie.lower()\n",
    "    # Buscar la película en la base de datos\n",
    "    movie_id = df.loc[df['title'] == movie, 'id'].values[0]\n",
    "    # Obtiene el índice de la película en la matriz de similitud\n",
    "    idx = np.where(df['id'] == movie_id)[0][0]\n",
    "    \n",
    "    # Obtiene las puntuaciones de similitud para la película\n",
    "    scores = list(enumerate(similarity_matrix[idx]))\n",
    "    \n",
    "    # Ordena las puntuaciones en orden descendente\n",
    "    scores.sort(key=lambda x: x[1], reverse=True)\n",
    "    \n",
    "    # Obtiene las películas similares\n",
    "    similar_movies = [df.iloc[i,1] for i, _ in scores[1:N+1]]\n",
    "    \n",
    "    return similar_movies\n"
   ]
  },
  {
   "cell_type": "code",
   "execution_count": 15,
   "metadata": {},
   "outputs": [],
   "source": [
    "# Ejemplo de uso:\n",
    "# movie = 'avatar' \n",
    "# int(df['id'][df['title'] == movie])\n",
    "# df.loc[df['title'] == movie, 'id']\n",
    "# df.loc[df['title'] == movie, 'id'].values[0]"
   ]
  },
  {
   "cell_type": "code",
   "execution_count": 16,
   "metadata": {},
   "outputs": [
    {
     "name": "stdout",
     "output_type": "stream",
     "text": [
      "['doctor strange', 'thor: ragnarok', 'maximum ride', 'justice league dark', 'team thor']\n"
     ]
    }
   ],
   "source": [
    "# Ejemplo de uso:\n",
    "movie = 'avatar 2'  # Reemplaza con el ID de la película para la que deseas obtener recomendaciones\n",
    "similar_movies = get_similar_movies(movie)\n",
    "\n",
    "print(similar_movies)"
   ]
  },
  {
   "cell_type": "code",
   "execution_count": 17,
   "metadata": {},
   "outputs": [],
   "source": [
    "df.to_parquet('ml.parquet',engine='pyarrow')"
   ]
  },
  {
   "cell_type": "code",
   "execution_count": 18,
   "metadata": {},
   "outputs": [],
   "source": [
    "import pickle\n",
    "\n",
    "with open('data.pkl', 'wb') as f:\n",
    "    pickle.dump(similarity_matrix, f)"
   ]
  }
 ],
 "metadata": {
  "kernelspec": {
   "display_name": ".venv",
   "language": "python",
   "name": "python3"
  },
  "language_info": {
   "codemirror_mode": {
    "name": "ipython",
    "version": 3
   },
   "file_extension": ".py",
   "mimetype": "text/x-python",
   "name": "python",
   "nbconvert_exporter": "python",
   "pygments_lexer": "ipython3",
   "version": "3.12.5"
  }
 },
 "nbformat": 4,
 "nbformat_minor": 2
}
